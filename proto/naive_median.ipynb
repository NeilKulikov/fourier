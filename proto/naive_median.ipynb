{
 "cells": [
  {
   "cell_type": "code",
   "execution_count": 1,
   "metadata": {},
   "outputs": [],
   "source": [
    "import ctypes"
   ]
  },
  {
   "cell_type": "code",
   "execution_count": 2,
   "metadata": {},
   "outputs": [],
   "source": [
    "basic_dll = ctypes.CDLL('fourier_basic.so')"
   ]
  },
  {
   "cell_type": "code",
   "execution_count": 3,
   "metadata": {},
   "outputs": [],
   "source": [
    "basic_dll.density_fourier_capi_float.restype = ctypes.c_int\n",
    "basic_dll.density_fourier_capi_float.argtypes = [ctypes.c_void_p, ctypes.c_void_p, ctypes.c_void_p, ctypes.c_long, ctypes.c_long, ctypes.c_float, ctypes.c_float]\n",
    "basic_dll.density_fourier_capi_double.restype = ctypes.c_int\n",
    "basic_dll.density_fourier_capi_double.argtypes = [ctypes.c_void_p, ctypes.c_void_p, ctypes.c_void_p, ctypes.c_long, ctypes.c_long, ctypes.c_double, ctypes.c_double]"
   ]
  },
  {
   "cell_type": "code",
   "execution_count": 4,
   "metadata": {},
   "outputs": [],
   "source": [
    "import numpy as np"
   ]
  },
  {
   "cell_type": "code",
   "execution_count": 5,
   "metadata": {},
   "outputs": [],
   "source": [
    "def density_fourier_float(data: np.array, hcount = 32):\n",
    "    fp_data = np.ascontiguousarray(data, dtype = np.float32)\n",
    "    scount = len(fp_data)\n",
    "    re_harm, im_harm = np.zeros(hcount, dtype = np.float32), np.zeros(hcount, dtype = np.float32) \n",
    "    dmin, dmax = np.min(data), np.max(data)\n",
    "    shift, basek = 0.5 * (dmax + dmin), np.pi / np.abs(dmax - dmin)\n",
    "    res = basic_dll.density_fourier_capi_float(  \\\n",
    "        fp_data.ctypes.data_as(ctypes.c_void_p), \\\n",
    "        re_harm.ctypes.data_as(ctypes.c_void_p), \\\n",
    "        im_harm.ctypes.data_as(ctypes.c_void_p), \\\n",
    "        scount, hcount, shift, basek)\n",
    "    assert res == 0\n",
    "    return (re_harm, im_harm)\n",
    "\n",
    "def density_fourier_double(data: np.array, hcount = 32):\n",
    "    fp_data = np.ascontiguousarray(data, dtype = np.float64)\n",
    "    scount = len(fp_data)\n",
    "    re_harm, im_harm = np.zeros(hcount, dtype = np.float64), np.zeros(hcount, dtype = np.float64) \n",
    "    dmin, dmax = np.min(data), np.max(data)\n",
    "    shift, basek = 0.5 * (dmax + dmin), np.pi / np.abs(dmax - dmin)\n",
    "    res = basic_dll.density_fourier_capi_double( \\\n",
    "        fp_data.ctypes.data_as(ctypes.c_void_p), \\\n",
    "        re_harm.ctypes.data_as(ctypes.c_void_p), \\\n",
    "        im_harm.ctypes.data_as(ctypes.c_void_p), \\\n",
    "        scount, hcount, shift, basek)\n",
    "    assert res == 0\n",
    "    return (re_harm, im_harm)\n",
    "\n",
    "def density_fourier(data: np.array, hcount = 32):\n",
    "    if data.dtype == np.float32:\n",
    "        return density_fourier_float(data, hcount)\n",
    "    if data.dtype == np.float64:\n",
    "        return density_fourier_double(data, hcount)\n",
    "    return None"
   ]
  },
  {
   "cell_type": "code",
   "execution_count": 6,
   "metadata": {},
   "outputs": [],
   "source": [
    "nx = 5000000\n",
    "xs = 2 * np.random.rand(nx) - 1\n",
    "ys = np.random.rand(nx)\n",
    "fs = np.exp(-4 *(xs-0.9)**2) + np.exp(-100*(xs+0.9)**2) + np.exp(-50*(xs+0.3)**2)\n",
    "#fs = 0.5 + 0.5 * np.sin(4 * np.pi * xs)\n",
    "zs = xs[ys < fs]\n",
    "zsf, zsd = zs.astype(dtype = np.float32), zs.astype(dtype = np.float64) \n",
    "nz = zs.shape[0]"
   ]
  },
  {
   "cell_type": "code",
   "execution_count": 7,
   "metadata": {},
   "outputs": [],
   "source": [
    "import matplotlib.pyplot as plt"
   ]
  },
  {
   "cell_type": "code",
   "execution_count": 8,
   "metadata": {},
   "outputs": [],
   "source": [
    "import warnings\n",
    "warnings.filterwarnings('ignore')"
   ]
  },
  {
   "cell_type": "code",
   "execution_count": 9,
   "metadata": {},
   "outputs": [],
   "source": [
    "re_harm, im_harm = density_fourier(zs)"
   ]
  },
  {
   "cell_type": "code",
   "execution_count": 10,
   "metadata": {},
   "outputs": [],
   "source": [
    "nks = len(re_harm)\n",
    "ks = np.pi * np.arange(nks, dtype = np.float32) / 2\n",
    "fs = 1j * (np.exp(-2j * ks) + np.exp(+2j * ks) - 2.) / ks\n",
    "fs[0] = 0.0\n",
    "refs, imfs = np.real(fs), np.imag(fs)"
   ]
  },
  {
   "cell_type": "code",
   "execution_count": 11,
   "metadata": {},
   "outputs": [],
   "source": [
    "refharm = re_harm * refs - im_harm * imfs\n",
    "imfharm = re_harm * imfs + im_harm * refs"
   ]
  },
  {
   "cell_type": "code",
   "execution_count": 12,
   "metadata": {},
   "outputs": [],
   "source": [
    "basic_dll.evaluate_fourier_capi_float.restype = ctypes.c_float\n",
    "basic_dll.evaluate_fourier_capi_float.argtypes = [ctypes.c_float, ctypes.c_void_p, ctypes.c_void_p, ctypes.c_long, ctypes.c_float, ctypes.c_float]\n",
    "basic_dll.evaluate_fourier_capi_double.restype = ctypes.c_double\n",
    "basic_dll.evaluate_fourier_capi_double.argtypes = [ctypes.c_double, ctypes.c_void_p, ctypes.c_void_p, ctypes.c_long, ctypes.c_double, ctypes.c_double]"
   ]
  },
  {
   "cell_type": "code",
   "execution_count": 13,
   "metadata": {},
   "outputs": [],
   "source": [
    "def evaluate_fourier_float(arg: float, \n",
    "                           reharmonics: np.array, imharmonics: np.array, \n",
    "                           shift = 0.0, basek = np.pi) -> float:\n",
    "    assert (imharmonics.ndim == 1) and (reharmonics.ndim == 1)\n",
    "    assert imharmonics.shape == reharmonics.shape\n",
    "    reh = np.ascontiguousarray(reharmonics, dtype = np.float32)\n",
    "    imh = np.ascontiguousarray(imharmonics, dtype = np.float32)\n",
    "    hcount = len(imh)\n",
    "    return basic_dll.evaluate_fourier_capi_float(     \\\n",
    "                arg,                                  \\\n",
    "                reh.ctypes.data_as(ctypes.c_void_p),  \\\n",
    "                imh.ctypes.data_as(ctypes.c_void_p),  \\\n",
    "                hcount, shift, basek)\n",
    "\n",
    "def evaluate_fourier_double(arg: float, \n",
    "                            reharmonics: np.array, imharmonics: np.array, \n",
    "                            shift = 0.0, basek = np.pi) -> float:\n",
    "    assert (imharmonics.ndim == 1) and (reharmonics.ndim == 1)\n",
    "    assert imharmonics.shape == reharmonics.shape\n",
    "    reh = np.ascontiguousarray(reharmonics, dtype = np.float64)\n",
    "    imh = np.ascontiguousarray(imharmonics, dtype = np.float64)\n",
    "    hcount = len(imh)\n",
    "    return basic_dll.evaluate_fourier_capi_double(   \\\n",
    "                arg,                                  \\\n",
    "                reh.ctypes.data_as(ctypes.c_void_p),  \\\n",
    "                imh.ctypes.data_as(ctypes.c_void_p),  \\\n",
    "                hcount, shift, basek)\n",
    "\n",
    "def evaluate_fourier(arg: float, \n",
    "                     reharmonics: np.array, imharmonics: np.array, \n",
    "                     shift = 0.0, basek = np.pi / 2):\n",
    "    assert imharmonics.dtype == reharmonics.dtype\n",
    "    if (imharmonics.dtype == np.float32) and (reharmonics.dtype == np.float32):\n",
    "        return evaluate_fourier_float(arg, reharmonics, imharmonics, shift, basek)\n",
    "    if (imharmonics.dtype == np.float64) and (reharmonics.dtype == np.float64):\n",
    "        return evaluate_fourier_double(arg, reharmonics, imharmonics, shift, basek)\n",
    "    return None"
   ]
  },
  {
   "cell_type": "code",
   "execution_count": 14,
   "metadata": {},
   "outputs": [],
   "source": [
    "xs = np.linspace(-1., 1., 1000)\n",
    "func = lambda x: evaluate_fourier(x, refharm, imfharm)\n",
    "ys = np.array([func(x) for x in xs])"
   ]
  },
  {
   "cell_type": "code",
   "execution_count": 15,
   "metadata": {},
   "outputs": [
    {
     "data": {
      "text/plain": [
       "[<matplotlib.lines.Line2D at 0x11cc3f850>]"
      ]
     },
     "execution_count": 15,
     "metadata": {},
     "output_type": "execute_result"
    },
    {
     "data": {
      "image/png": "[encoded data removed]",
      "text/plain": [
       "<Figure size 432x288 with 1 Axes>"
      ]
     },
     "metadata": {
      "needs_background": "light"
     },
     "output_type": "display_data"
    }
   ],
   "source": [
    "plt.plot(xs, ys)"
   ]
  },
  {
   "cell_type": "code",
   "execution_count": 16,
   "metadata": {},
   "outputs": [],
   "source": [
    "from scipy.optimize import root_scalar"
   ]
  },
  {
   "cell_type": "code",
   "execution_count": 17,
   "metadata": {},
   "outputs": [
    {
     "data": {
      "text/plain": [
       "(0.3825964927676638, 6, 7)"
      ]
     },
     "execution_count": 17,
     "metadata": {},
     "output_type": "execute_result"
    }
   ],
   "source": [
    "res = root_scalar(func, x0 = -0.5, x1 = 0.5)\n",
    "res.root, res.iterations, res.function_calls"
   ]
  },
  {
   "cell_type": "code",
   "execution_count": null,
   "metadata": {},
   "outputs": [],
   "source": []
  }
 ],
 "metadata": {
  "interpreter": {
   "hash": "aee8b7b246df8f9039afb4144a1f6fd8d2ca17a180786b69acc140d282b71a49"
  },
  "kernelspec": {
   "display_name": "Python 3",
   "language": "python",
   "name": "python3"
  },
  "language_info": {
   "codemirror_mode": {
    "name": "ipython",
    "version": 3
   },
   "file_extension": ".py",
   "mimetype": "text/x-python",
   "name": "python",
   "nbconvert_exporter": "python",
   "pygments_lexer": "ipython3",
   "version": "3.8.10"
  }
 },
 "nbformat": 4,
 "nbformat_minor": 4
}
