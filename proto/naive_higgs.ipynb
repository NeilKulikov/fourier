{
 "cells": [
  {
   "cell_type": "code",
   "execution_count": 1,
   "metadata": {},
   "outputs": [],
   "source": [
    "import ctypes"
   ]
  },
  {
   "cell_type": "code",
   "execution_count": 2,
   "metadata": {},
   "outputs": [],
   "source": [
    "basic_dll = ctypes.CDLL('fourier_basic.so')"
   ]
  },
  {
   "cell_type": "code",
   "execution_count": 3,
   "metadata": {},
   "outputs": [],
   "source": [
    "basic_dll.density_fourier_capi_float.restype = ctypes.c_int\n",
    "basic_dll.density_fourier_capi_float.argtypes = [ctypes.c_void_p, ctypes.c_void_p, ctypes.c_void_p, ctypes.c_long, ctypes.c_long, ctypes.c_float, ctypes.c_float]\n",
    "basic_dll.density_fourier_capi_double.restype = ctypes.c_int\n",
    "basic_dll.density_fourier_capi_double.argtypes = [ctypes.c_void_p, ctypes.c_void_p, ctypes.c_void_p, ctypes.c_long, ctypes.c_long, ctypes.c_double, ctypes.c_double]"
   ]
  },
  {
   "cell_type": "code",
   "execution_count": 4,
   "metadata": {},
   "outputs": [],
   "source": [
    "import numpy as np"
   ]
  },
  {
   "cell_type": "code",
   "execution_count": 5,
   "metadata": {},
   "outputs": [],
   "source": [
    "def density_fourier_float(data: np.array, hcount = 32):\n",
    "    fp_data = np.ascontiguousarray(data, dtype = np.float32)\n",
    "    scount = len(fp_data)\n",
    "    re_harm, im_harm = np.zeros(hcount, dtype = np.float32), np.zeros(hcount, dtype = np.float32) \n",
    "    dmin, dmax = np.min(data), np.max(data)\n",
    "    shift, basek = 0.5 * (dmax + dmin), 2 * np.pi / np.abs(dmax - dmin)\n",
    "    res = basic_dll.density_fourier_capi_float(  \\\n",
    "        fp_data.ctypes.data_as(ctypes.c_void_p), \\\n",
    "        re_harm.ctypes.data_as(ctypes.c_void_p), \\\n",
    "        im_harm.ctypes.data_as(ctypes.c_void_p), \\\n",
    "        scount, hcount, shift, basek)\n",
    "    assert res == 0\n",
    "    return (re_harm, im_harm)\n",
    "\n",
    "def density_fourier_double(data: np.array, hcount = 32):\n",
    "    fp_data = np.ascontiguousarray(data, dtype = np.float64)\n",
    "    scount = len(fp_data)\n",
    "    re_harm, im_harm = np.zeros(hcount, dtype = np.float64), np.zeros(hcount, dtype = np.float64) \n",
    "    dmin, dmax = np.min(data), np.max(data)\n",
    "    shift, basek = 0.5 * (dmax + dmin), 2 * np.pi / np.abs(dmax - dmin)\n",
    "    res = basic_dll.density_fourier_capi_double( \\\n",
    "        fp_data.ctypes.data_as(ctypes.c_void_p), \\\n",
    "        re_harm.ctypes.data_as(ctypes.c_void_p), \\\n",
    "        im_harm.ctypes.data_as(ctypes.c_void_p), \\\n",
    "        scount, hcount, shift, basek)\n",
    "    assert res == 0\n",
    "    return (re_harm, im_harm)\n",
    "\n",
    "def density_fourier(data: np.array, hcount = 32):\n",
    "    if data.dtype == np.float32:\n",
    "        return density_fourier_float(data, hcount)\n",
    "    if data.dtype == np.float64:\n",
    "        return density_fourier_double(data, hcount)\n",
    "    return None"
   ]
  },
  {
   "cell_type": "code",
   "execution_count": 6,
   "metadata": {},
   "outputs": [],
   "source": [
    "import matplotlib.pyplot as plt"
   ]
  },
  {
   "cell_type": "code",
   "execution_count": 7,
   "metadata": {},
   "outputs": [],
   "source": [
    "basic_dll.evaluate_fourier_capi_float.restype = ctypes.c_float\n",
    "basic_dll.evaluate_fourier_capi_float.argtypes = [ctypes.c_float, ctypes.c_void_p, ctypes.c_void_p, ctypes.c_long, ctypes.c_float, ctypes.c_float]\n",
    "basic_dll.evaluate_fourier_capi_double.restype = ctypes.c_double\n",
    "basic_dll.evaluate_fourier_capi_double.argtypes = [ctypes.c_double, ctypes.c_void_p, ctypes.c_void_p, ctypes.c_long, ctypes.c_double, ctypes.c_double]"
   ]
  },
  {
   "cell_type": "code",
   "execution_count": 8,
   "metadata": {},
   "outputs": [],
   "source": [
    "def evaluate_fourier_float(arg: float, \n",
    "                           reharmonics: np.array, imharmonics: np.array, \n",
    "                           shift = 0.0, basek = np.pi) -> float:\n",
    "    assert (imharmonics.ndim == 1) and (reharmonics.ndim == 1)\n",
    "    assert imharmonics.shape == reharmonics.shape\n",
    "    reh = np.ascontiguousarray(reharmonics, dtype = np.float32)\n",
    "    imh = np.ascontiguousarray(imharmonics, dtype = np.float32)\n",
    "    hcount = len(imh)\n",
    "    return basic_dll.evaluate_fourier_capi_float(     \\\n",
    "                arg,                                  \\\n",
    "                reh.ctypes.data_as(ctypes.c_void_p),  \\\n",
    "                imh.ctypes.data_as(ctypes.c_void_p),  \\\n",
    "                hcount, shift, basek) / reharmonics[0]\n",
    "\n",
    "def evaluate_fourier_double(arg: float, \n",
    "                            reharmonics: np.array, imharmonics: np.array, \n",
    "                            shift = 0.0, basek = np.pi) -> float:\n",
    "    assert (imharmonics.ndim == 1) and (reharmonics.ndim == 1)\n",
    "    assert imharmonics.shape == reharmonics.shape\n",
    "    reh = np.ascontiguousarray(reharmonics, dtype = np.float64)\n",
    "    imh = np.ascontiguousarray(imharmonics, dtype = np.float64)\n",
    "    hcount = len(imh)\n",
    "    return basic_dll.evaluate_fourier_capi_double(   \\\n",
    "                arg,                                  \\\n",
    "                reh.ctypes.data_as(ctypes.c_void_p),  \\\n",
    "                imh.ctypes.data_as(ctypes.c_void_p),  \\\n",
    "                hcount, shift, basek) / reharmonics[0]\n",
    "\n",
    "def evaluate_fourier(arg: float, \n",
    "                     reharmonics: np.array, imharmonics: np.array, \n",
    "                     shift = 0.0, basek = np.pi):\n",
    "    assert imharmonics.dtype == reharmonics.dtype\n",
    "    if (imharmonics.dtype == np.float32) and (reharmonics.dtype == np.float32):\n",
    "        return evaluate_fourier_float(arg, reharmonics, imharmonics, shift, basek)\n",
    "    if (imharmonics.dtype == np.float64) and (reharmonics.dtype == np.float64):\n",
    "        return evaluate_fourier_double(arg, reharmonics, imharmonics, shift, basek)\n",
    "    return None"
   ]
  },
  {
   "cell_type": "code",
   "execution_count": 9,
   "metadata": {},
   "outputs": [],
   "source": [
    "import pandas as pd"
   ]
  },
  {
   "cell_type": "code",
   "execution_count": null,
   "metadata": {},
   "outputs": [],
   "source": [
    "higgs = pd.read_csv('../data/HIGGS.csv.gz', header = None)"
   ]
  },
  {
   "cell_type": "code",
   "execution_count": null,
   "metadata": {},
   "outputs": [],
   "source": [
    "higgs.to_pickle('../data/higgs.pickle')"
   ]
  },
  {
   "cell_type": "code",
   "execution_count": 10,
   "metadata": {},
   "outputs": [],
   "source": [
    "higgs = pd.read_pickle('../data/higgs.pickle')"
   ]
  },
  {
   "cell_type": "code",
   "execution_count": null,
   "metadata": {},
   "outputs": [],
   "source": [
    "plt.figure(figsize = (7.5, 10), dpi = 120)\n",
    "for c in [2, 7, 11, 15, 19]:\n",
    "    reex, imex = density_fourier(higgs[c].to_numpy())\n",
    "    xs = np.linspace(-1.0, +1.0, 1000)\n",
    "    func = lambda x: evaluate_fourier(x, reex, imex)\n",
    "    ys = np.array([func(x) for x in xs])\n",
    "    plt.plot(xs, ys, label = f'Column = {c}')\n",
    "plt.legend()"
   ]
  },
  {
   "cell_type": "code",
   "execution_count": 11,
   "metadata": {},
   "outputs": [],
   "source": [
    "train_size = 10000000\n",
    "train, test = higgs.iloc[:train_size, :], higgs.iloc[train_size:, :]\n",
    "del higgs"
   ]
  },
  {
   "cell_type": "code",
   "execution_count": 12,
   "metadata": {},
   "outputs": [],
   "source": [
    "train_true, train_false = train[train[0] == 1.0], train[train[0] == 0.0]"
   ]
  },
  {
   "cell_type": "code",
   "execution_count": 13,
   "metadata": {},
   "outputs": [],
   "source": [
    "train_true_data = train_true.iloc[:, 1:]\n",
    "train_false_data = train_false.iloc[:, 1:]"
   ]
  },
  {
   "cell_type": "code",
   "execution_count": 14,
   "metadata": {},
   "outputs": [],
   "source": [
    "nfeatures = train_true_data.shape[1]\n",
    "nharmonics = 32\n",
    "hshape = (nharmonics, nfeatures)\n",
    "reharmonics, imharmonics = np.zeros(hshape), np.zeros(hshape)"
   ]
  },
  {
   "cell_type": "code",
   "execution_count": 15,
   "metadata": {},
   "outputs": [],
   "source": [
    "for f in range(nfeatures):\n",
    "    feature = train_true_data.iloc[:, f].to_numpy()\n",
    "    r, i = density_fourier(feature, hcount = nharmonics)\n",
    "    reharmonics[:, f], imharmonics[:, f] = r, i"
   ]
  },
  {
   "cell_type": "code",
   "execution_count": 16,
   "metadata": {},
   "outputs": [],
   "source": [
    "from numba import *"
   ]
  },
  {
   "cell_type": "code",
   "execution_count": 17,
   "metadata": {},
   "outputs": [],
   "source": [
    "@jit(nopython = True)\n",
    "def ev(x, fn, reh, imh):\n",
    "    return evaluate_fourier(x, reh[:, fn], imh[:, fn])\n",
    "\n",
    "@jit(nopython = True, parallel = True)\n",
    "def handle_pos(row, nf, errmat, reh, imh):\n",
    "    for f1 in range(nf):\n",
    "        v1 = ev(r[f1], f1, reh, imh)\n",
    "        for f2 in range(nf):\n",
    "            v2 = ev(r[f2], f2, reh, imh)\n",
    "            err = 1 - v1 * v2\n",
    "            errmat[f1, f2] += (err * err)\n",
    "            \n",
    "@jit(nopython = True, parallel = True)\n",
    "def handle_neg(row, errmat):\n",
    "    for f1 in range(nf):\n",
    "        v1 = ev(r[f1], f1, reh, imh)\n",
    "        for f2 in range(nf):\n",
    "            v2 = ev(r[f2], f2, reh, imh)\n",
    "            err = v1 * v2\n",
    "            errmat[f1, f2] += (err * err)"
   ]
  },
  {
   "cell_type": "code",
   "execution_count": 18,
   "metadata": {},
   "outputs": [
    {
     "ename": "TypingError",
     "evalue": "Failed in nopython mode pipeline (step: nopython frontend)\nFailed in nopython mode pipeline (step: nopython frontend)\nUntyped global name 'evaluate_fourier': cannot determine Numba type of <class 'function'>\n\nFile \"<ipython-input-17-b7f30c3f8062>\", line 3:\ndef ev(x, fn, reh, imh):\n    return evaluate_fourier(x, reh[:, fn], imh[:, fn])\n    ^\n\nDuring: resolving callee type: type(CPUDispatcher(<function ev at 0x1110dfdc0>))\nDuring: typing of call at <ipython-input-17-b7f30c3f8062> (8)\n\nDuring: resolving callee type: type(CPUDispatcher(<function ev at 0x1110dfdc0>))\nDuring: typing of call at <ipython-input-17-b7f30c3f8062> (10)\n\nDuring: resolving callee type: type(CPUDispatcher(<function ev at 0x1110dfdc0>))\nDuring: typing of call at <ipython-input-17-b7f30c3f8062> (8)\n\n\nFile \"<ipython-input-17-b7f30c3f8062>\", line 8:\ndef handle_pos(row, nf, errmat, reh, imh):\n    <source elided>\n    for f1 in range(nf):\n        v1 = ev(r[f1], f1, reh, imh)\n        ^\n",
     "output_type": "error",
     "traceback": [
      "\u001b[0;31m---------------------------------------------------------------------------\u001b[0m",
      "\u001b[0;31mTypingError\u001b[0m                               Traceback (most recent call last)",
      "\u001b[0;32m<ipython-input-18-0938bee85994>\u001b[0m in \u001b[0;36m<module>\u001b[0;34m\u001b[0m\n\u001b[1;32m      1\u001b[0m \u001b[0merror_matrix\u001b[0m \u001b[0;34m=\u001b[0m \u001b[0mnp\u001b[0m\u001b[0;34m.\u001b[0m\u001b[0mzeros\u001b[0m\u001b[0;34m(\u001b[0m\u001b[0;34m(\u001b[0m\u001b[0mnfeatures\u001b[0m\u001b[0;34m,\u001b[0m \u001b[0mnfeatures\u001b[0m\u001b[0;34m)\u001b[0m\u001b[0;34m)\u001b[0m\u001b[0;34m\u001b[0m\u001b[0;34m\u001b[0m\u001b[0m\n\u001b[1;32m      2\u001b[0m \u001b[0;32mfor\u001b[0m \u001b[0mi\u001b[0m\u001b[0;34m,\u001b[0m \u001b[0mrow\u001b[0m \u001b[0;32min\u001b[0m \u001b[0mtrain_true_data\u001b[0m\u001b[0;34m.\u001b[0m\u001b[0miterrows\u001b[0m\u001b[0;34m(\u001b[0m\u001b[0;34m)\u001b[0m\u001b[0;34m:\u001b[0m\u001b[0;34m\u001b[0m\u001b[0;34m\u001b[0m\u001b[0m\n\u001b[0;32m----> 3\u001b[0;31m     \u001b[0mhandle_pos\u001b[0m\u001b[0;34m(\u001b[0m\u001b[0mrow\u001b[0m\u001b[0;34m.\u001b[0m\u001b[0mto_numpy\u001b[0m\u001b[0;34m(\u001b[0m\u001b[0;34m)\u001b[0m\u001b[0;34m,\u001b[0m \u001b[0mnfeatures\u001b[0m\u001b[0;34m,\u001b[0m \u001b[0merror_matrix\u001b[0m\u001b[0;34m,\u001b[0m \u001b[0mreharmonics\u001b[0m\u001b[0;34m,\u001b[0m \u001b[0mimharmonics\u001b[0m\u001b[0;34m)\u001b[0m\u001b[0;34m\u001b[0m\u001b[0;34m\u001b[0m\u001b[0m\n\u001b[0m\u001b[1;32m      4\u001b[0m \u001b[0;32mfor\u001b[0m \u001b[0mi\u001b[0m\u001b[0;34m,\u001b[0m \u001b[0mr\u001b[0m \u001b[0;32min\u001b[0m \u001b[0mtrain_false_data\u001b[0m\u001b[0;34m.\u001b[0m\u001b[0miterrows\u001b[0m\u001b[0;34m(\u001b[0m\u001b[0;34m)\u001b[0m\u001b[0;34m:\u001b[0m\u001b[0;34m\u001b[0m\u001b[0;34m\u001b[0m\u001b[0m\n\u001b[1;32m      5\u001b[0m     \u001b[0mhandle_neg\u001b[0m\u001b[0;34m(\u001b[0m\u001b[0mrow\u001b[0m\u001b[0;34m.\u001b[0m\u001b[0mto_numpy\u001b[0m\u001b[0;34m(\u001b[0m\u001b[0;34m)\u001b[0m\u001b[0;34m,\u001b[0m \u001b[0mnfeatures\u001b[0m\u001b[0;34m,\u001b[0m \u001b[0merror_matrix\u001b[0m\u001b[0;34m,\u001b[0m \u001b[0mreharmonics\u001b[0m\u001b[0;34m,\u001b[0m \u001b[0mimharmonics\u001b[0m\u001b[0;34m)\u001b[0m\u001b[0;34m\u001b[0m\u001b[0;34m\u001b[0m\u001b[0m\n",
      "\u001b[0;32m/usr/local/lib/python3.8/site-packages/numba/core/dispatcher.py\u001b[0m in \u001b[0;36m_compile_for_args\u001b[0;34m(self, *args, **kws)\u001b[0m\n\u001b[1;32m    413\u001b[0m                 \u001b[0me\u001b[0m\u001b[0;34m.\u001b[0m\u001b[0mpatch_message\u001b[0m\u001b[0;34m(\u001b[0m\u001b[0mmsg\u001b[0m\u001b[0;34m)\u001b[0m\u001b[0;34m\u001b[0m\u001b[0;34m\u001b[0m\u001b[0m\n\u001b[1;32m    414\u001b[0m \u001b[0;34m\u001b[0m\u001b[0m\n\u001b[0;32m--> 415\u001b[0;31m             \u001b[0merror_rewrite\u001b[0m\u001b[0;34m(\u001b[0m\u001b[0me\u001b[0m\u001b[0;34m,\u001b[0m \u001b[0;34m'typing'\u001b[0m\u001b[0;34m)\u001b[0m\u001b[0;34m\u001b[0m\u001b[0;34m\u001b[0m\u001b[0m\n\u001b[0m\u001b[1;32m    416\u001b[0m         \u001b[0;32mexcept\u001b[0m \u001b[0merrors\u001b[0m\u001b[0;34m.\u001b[0m\u001b[0mUnsupportedError\u001b[0m \u001b[0;32mas\u001b[0m \u001b[0me\u001b[0m\u001b[0;34m:\u001b[0m\u001b[0;34m\u001b[0m\u001b[0;34m\u001b[0m\u001b[0m\n\u001b[1;32m    417\u001b[0m             \u001b[0;31m# Something unsupported is present in the user code, add help info\u001b[0m\u001b[0;34m\u001b[0m\u001b[0;34m\u001b[0m\u001b[0;34m\u001b[0m\u001b[0m\n",
      "\u001b[0;32m/usr/local/lib/python3.8/site-packages/numba/core/dispatcher.py\u001b[0m in \u001b[0;36merror_rewrite\u001b[0;34m(e, issue_type)\u001b[0m\n\u001b[1;32m    356\u001b[0m                 \u001b[0;32mraise\u001b[0m \u001b[0me\u001b[0m\u001b[0;34m\u001b[0m\u001b[0;34m\u001b[0m\u001b[0m\n\u001b[1;32m    357\u001b[0m             \u001b[0;32melse\u001b[0m\u001b[0;34m:\u001b[0m\u001b[0;34m\u001b[0m\u001b[0;34m\u001b[0m\u001b[0m\n\u001b[0;32m--> 358\u001b[0;31m                 \u001b[0mreraise\u001b[0m\u001b[0;34m(\u001b[0m\u001b[0mtype\u001b[0m\u001b[0;34m(\u001b[0m\u001b[0me\u001b[0m\u001b[0;34m)\u001b[0m\u001b[0;34m,\u001b[0m \u001b[0me\u001b[0m\u001b[0;34m,\u001b[0m \u001b[0;32mNone\u001b[0m\u001b[0;34m)\u001b[0m\u001b[0;34m\u001b[0m\u001b[0;34m\u001b[0m\u001b[0m\n\u001b[0m\u001b[1;32m    359\u001b[0m \u001b[0;34m\u001b[0m\u001b[0m\n\u001b[1;32m    360\u001b[0m         \u001b[0margtypes\u001b[0m \u001b[0;34m=\u001b[0m \u001b[0;34m[\u001b[0m\u001b[0;34m]\u001b[0m\u001b[0;34m\u001b[0m\u001b[0;34m\u001b[0m\u001b[0m\n",
      "\u001b[0;32m/usr/local/lib/python3.8/site-packages/numba/core/utils.py\u001b[0m in \u001b[0;36mreraise\u001b[0;34m(tp, value, tb)\u001b[0m\n\u001b[1;32m     78\u001b[0m         \u001b[0mvalue\u001b[0m \u001b[0;34m=\u001b[0m \u001b[0mtp\u001b[0m\u001b[0;34m(\u001b[0m\u001b[0;34m)\u001b[0m\u001b[0;34m\u001b[0m\u001b[0;34m\u001b[0m\u001b[0m\n\u001b[1;32m     79\u001b[0m     \u001b[0;32mif\u001b[0m \u001b[0mvalue\u001b[0m\u001b[0;34m.\u001b[0m\u001b[0m__traceback__\u001b[0m \u001b[0;32mis\u001b[0m \u001b[0;32mnot\u001b[0m \u001b[0mtb\u001b[0m\u001b[0;34m:\u001b[0m\u001b[0;34m\u001b[0m\u001b[0;34m\u001b[0m\u001b[0m\n\u001b[0;32m---> 80\u001b[0;31m         \u001b[0;32mraise\u001b[0m \u001b[0mvalue\u001b[0m\u001b[0;34m.\u001b[0m\u001b[0mwith_traceback\u001b[0m\u001b[0;34m(\u001b[0m\u001b[0mtb\u001b[0m\u001b[0;34m)\u001b[0m\u001b[0;34m\u001b[0m\u001b[0;34m\u001b[0m\u001b[0m\n\u001b[0m\u001b[1;32m     81\u001b[0m     \u001b[0;32mraise\u001b[0m \u001b[0mvalue\u001b[0m\u001b[0;34m\u001b[0m\u001b[0;34m\u001b[0m\u001b[0m\n\u001b[1;32m     82\u001b[0m \u001b[0;34m\u001b[0m\u001b[0m\n",
      "\u001b[0;31mTypingError\u001b[0m: Failed in nopython mode pipeline (step: nopython frontend)\nFailed in nopython mode pipeline (step: nopython frontend)\nUntyped global name 'evaluate_fourier': cannot determine Numba type of <class 'function'>\n\nFile \"<ipython-input-17-b7f30c3f8062>\", line 3:\ndef ev(x, fn, reh, imh):\n    return evaluate_fourier(x, reh[:, fn], imh[:, fn])\n    ^\n\nDuring: resolving callee type: type(CPUDispatcher(<function ev at 0x1110dfdc0>))\nDuring: typing of call at <ipython-input-17-b7f30c3f8062> (8)\n\nDuring: resolving callee type: type(CPUDispatcher(<function ev at 0x1110dfdc0>))\nDuring: typing of call at <ipython-input-17-b7f30c3f8062> (10)\n\nDuring: resolving callee type: type(CPUDispatcher(<function ev at 0x1110dfdc0>))\nDuring: typing of call at <ipython-input-17-b7f30c3f8062> (8)\n\n\nFile \"<ipython-input-17-b7f30c3f8062>\", line 8:\ndef handle_pos(row, nf, errmat, reh, imh):\n    <source elided>\n    for f1 in range(nf):\n        v1 = ev(r[f1], f1, reh, imh)\n        ^\n"
     ]
    }
   ],
   "source": [
    "error_matrix = np.zeros((nfeatures, nfeatures))\n",
    "for i, row in train_true_data.iterrows():\n",
    "    handle_pos(row.to_numpy(), nfeatures, error_matrix, reharmonics, imharmonics)\n",
    "for i, r in train_false_data.iterrows():\n",
    "    handle_neg(row.to_numpy(), nfeatures, error_matrix, reharmonics, imharmonics)"
   ]
  },
  {
   "cell_type": "code",
   "execution_count": null,
   "metadata": {},
   "outputs": [],
   "source": []
  },
  {
   "cell_type": "code",
   "execution_count": null,
   "metadata": {},
   "outputs": [],
   "source": []
  }
 ],
 "metadata": {
  "interpreter": {
   "hash": "aee8b7b246df8f9039afb4144a1f6fd8d2ca17a180786b69acc140d282b71a49"
  },
  "kernelspec": {
   "display_name": "Python 3",
   "language": "python",
   "name": "python3"
  },
  "language_info": {
   "codemirror_mode": {
    "name": "ipython",
    "version": 3
   },
   "file_extension": ".py",
   "mimetype": "text/x-python",
   "name": "python",
   "nbconvert_exporter": "python",
   "pygments_lexer": "ipython3",
   "version": "3.8.10"
  }
 },
 "nbformat": 4,
 "nbformat_minor": 4
}
